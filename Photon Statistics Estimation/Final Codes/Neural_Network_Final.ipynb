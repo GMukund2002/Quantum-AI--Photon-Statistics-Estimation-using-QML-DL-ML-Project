{
  "nbformat": 4,
  "nbformat_minor": 0,
  "metadata": {
    "colab": {
      "provenance": []
    },
    "kernelspec": {
      "name": "python3",
      "display_name": "Python 3"
    },
    "language_info": {
      "name": "python"
    }
  },
  "cells": [
    {
      "cell_type": "code",
      "source": [
        "import numpy as np\n",
        "import pandas as pd\n",
        "from sklearn.model_selection import train_test_split\n",
        "from sklearn.preprocessing import StandardScaler, MinMaxScaler\n",
        "import tensorflow as tf\n",
        "from tensorflow.keras.models import Sequential\n",
        "from tensorflow.keras.layers import Dense\n",
        "from tensorflow.keras import regularizers"
      ],
      "metadata": {
        "id": "f_Sh_ZbD4tik"
      },
      "execution_count": 10,
      "outputs": []
    },
    {
      "cell_type": "code",
      "source": [
        "df = pd.read_csv('2 1-filter and 1 lakh.csv', names=['y', 'x'])"
      ],
      "metadata": {
        "id": "tRrsfpfH4v0H"
      },
      "execution_count": 11,
      "outputs": []
    },
    {
      "cell_type": "code",
      "source": [
        "X = np.array(df['x'])\n",
        "y = np.array(df['y'])"
      ],
      "metadata": {
        "id": "BsPW3hjt4yOz"
      },
      "execution_count": 12,
      "outputs": []
    },
    {
      "cell_type": "code",
      "source": [
        "scaler = StandardScaler()\n",
        "X_scaled = scaler.fit_transform(X.reshape(-1, 1))\n",
        "\n",
        "min_max_scaler = MinMaxScaler()\n",
        "X_normalized = min_max_scaler.fit_transform(X_scaled)"
      ],
      "metadata": {
        "id": "yuTgvfEs40MD"
      },
      "execution_count": 13,
      "outputs": []
    },
    {
      "cell_type": "code",
      "source": [
        "X_train, X_test, y_train, y_test = train_test_split(X_normalized, y, test_size=0.2, random_state=42)"
      ],
      "metadata": {
        "id": "ft_Cu_pm49lo"
      },
      "execution_count": 14,
      "outputs": []
    },
    {
      "cell_type": "markdown",
      "source": [
        "#R Squared"
      ],
      "metadata": {
        "id": "Rxh3gs0o5onU"
      }
    },
    {
      "cell_type": "markdown",
      "source": [
        "R-Squared (R² or the coefficient of determination) is a statistical measure in a regression model that determines the proportion of variance in the dependent variable that can be explained by the independent variable. In other words, r-squared shows how well the data fit the regression model (the goodness of fit)."
      ],
      "metadata": {
        "id": "dLk_qwno5n0d"
      }
    },
    {
      "cell_type": "code",
      "source": [
        "def r_squared(y_true, y_pred):\n",
        "    residual = tf.reduce_sum(tf.square(tf.subtract(y_true, y_pred)))\n",
        "    total = tf.reduce_sum(tf.square(tf.subtract(y_true, tf.reduce_mean(y_true))))\n",
        "    r2 = tf.subtract(1.0, tf.divide(residual, total))\n",
        "    return r2+1\n"
      ],
      "metadata": {
        "id": "Wd9P3KD65QI1"
      },
      "execution_count": 15,
      "outputs": []
    },
    {
      "cell_type": "markdown",
      "source": [
        "Creating the Neural Network model"
      ],
      "metadata": {
        "id": "MFqRsfOp5bD5"
      }
    },
    {
      "cell_type": "code",
      "source": [
        "model = Sequential()\n",
        "model.add(Dense(64, activation='relu', input_shape=(1,), kernel_regularizer=regularizers.l1(0.001)))\n",
        "model.add(Dense(32, activation='relu', kernel_regularizer=regularizers.l1(0.001)))\n",
        "model.add(Dense(1))\n",
        "\n",
        "model.compile(optimizer='adam', loss='mean_squared_error', metrics=[r_squared])"
      ],
      "metadata": {
        "id": "AZ2CyrCe5TPP"
      },
      "execution_count": 16,
      "outputs": []
    },
    {
      "cell_type": "code",
      "source": [
        "r_squared_values = []\n",
        "\n",
        "for epoch in range(50):\n",
        "    history = model.fit(X_train, y_train, epochs=1, batch_size=16, verbose=1)\n",
        "\n",
        "    # Evaluate the model on the test set to get R-squared\n",
        "    _, test_r_squared = model.evaluate(X_test, y_test, verbose=0)\n",
        "\n",
        "    # Append R-squared values to the list\n",
        "    r_squared_values.append(test_r_squared)\n",
        "\n",
        "\n",
        "    print(f\"Epoch {epoch + 1}: R-squared = {test_r_squared}\")\n"
      ],
      "metadata": {
        "colab": {
          "base_uri": "https://localhost:8080/",
          "height": 0
        },
        "id": "V9qOXMJIyq5b",
        "outputId": "3c027174-8a6b-4f39-da21-4e8b4214b121"
      },
      "execution_count": 9,
      "outputs": [
        {
          "output_type": "stream",
          "name": "stdout",
          "text": [
            "5000/5000 [==============================] - 9s 2ms/step - loss: 224.7846 - r_squared: 0.8326\n",
            "Epoch 1: R-squared = 0.9557074904441833\n",
            "5000/5000 [==============================] - 9s 2ms/step - loss: 208.9707 - r_squared: 0.9213\n",
            "Epoch 2: R-squared = 0.9580953121185303\n",
            "5000/5000 [==============================] - 9s 2ms/step - loss: 208.9810 - r_squared: 0.9195\n",
            "Epoch 3: R-squared = 0.9597170948982239\n",
            "5000/5000 [==============================] - 9s 2ms/step - loss: 209.0450 - r_squared: 0.9216\n",
            "Epoch 4: R-squared = 0.95827317237854\n",
            "5000/5000 [==============================] - 8s 2ms/step - loss: 208.9997 - r_squared: 0.9214\n",
            "Epoch 5: R-squared = 0.9597550630569458\n",
            "5000/5000 [==============================] - 9s 2ms/step - loss: 208.9037 - r_squared: 0.9178\n",
            "Epoch 6: R-squared = 0.9588939547538757\n",
            "5000/5000 [==============================] - 10s 2ms/step - loss: 208.9976 - r_squared: 0.9196\n",
            "Epoch 7: R-squared = 0.9594573378562927\n",
            "5000/5000 [==============================] - 9s 2ms/step - loss: 208.9446 - r_squared: 0.9178\n",
            "Epoch 8: R-squared = 0.9576313495635986\n",
            "5000/5000 [==============================] - 8s 2ms/step - loss: 208.9594 - r_squared: 0.9162\n",
            "Epoch 9: R-squared = 0.9597254991531372\n",
            "5000/5000 [==============================] - 10s 2ms/step - loss: 208.8993 - r_squared: 0.9199\n",
            "Epoch 10: R-squared = 0.9516716003417969\n",
            "5000/5000 [==============================] - 9s 2ms/step - loss: 208.9564 - r_squared: 0.9243\n",
            "Epoch 11: R-squared = 0.9592061638832092\n",
            "5000/5000 [==============================] - 9s 2ms/step - loss: 208.9201 - r_squared: 0.9197\n",
            "Epoch 12: R-squared = 0.9528274536132812\n",
            "5000/5000 [==============================] - 8s 2ms/step - loss: 208.9066 - r_squared: 0.9185\n",
            "Epoch 13: R-squared = 0.9598578214645386\n",
            "5000/5000 [==============================] - 9s 2ms/step - loss: 208.8855 - r_squared: 0.9188\n",
            "Epoch 14: R-squared = 0.9598549604415894\n",
            "5000/5000 [==============================] - 9s 2ms/step - loss: 208.9192 - r_squared: 0.9205\n",
            "Epoch 15: R-squared = 0.9582592844963074\n",
            "5000/5000 [==============================] - 9s 2ms/step - loss: 208.9468 - r_squared: 0.9188\n",
            "Epoch 16: R-squared = 0.9596250057220459\n",
            "5000/5000 [==============================] - 8s 2ms/step - loss: 208.9033 - r_squared: 0.9212\n",
            "Epoch 17: R-squared = 0.9596418142318726\n",
            "5000/5000 [==============================] - 9s 2ms/step - loss: 208.8651 - r_squared: 0.9224\n",
            "Epoch 18: R-squared = 0.9576801657676697\n",
            "5000/5000 [==============================] - 9s 2ms/step - loss: 208.8832 - r_squared: 0.9205\n",
            "Epoch 19: R-squared = 0.9591668248176575\n",
            "5000/5000 [==============================] - 9s 2ms/step - loss: 208.8690 - r_squared: 0.9187\n",
            "Epoch 20: R-squared = 0.9587061405181885\n",
            "5000/5000 [==============================] - 8s 2ms/step - loss: 208.8177 - r_squared: 0.9237\n",
            "Epoch 21: R-squared = 0.9587598443031311\n",
            "5000/5000 [==============================] - 9s 2ms/step - loss: 208.8245 - r_squared: 0.9193\n",
            "Epoch 22: R-squared = 0.9597578048706055\n",
            "5000/5000 [==============================] - 9s 2ms/step - loss: 208.9298 - r_squared: 0.9182\n",
            "Epoch 23: R-squared = 0.9597617983818054\n",
            "5000/5000 [==============================] - 8s 2ms/step - loss: 208.8886 - r_squared: 0.9180\n",
            "Epoch 24: R-squared = 0.9584024548530579\n",
            "5000/5000 [==============================] - 8s 2ms/step - loss: 208.9342 - r_squared: 0.9191\n",
            "Epoch 25: R-squared = 0.9590516686439514\n",
            "5000/5000 [==============================] - 9s 2ms/step - loss: 208.9028 - r_squared: 0.9204\n",
            "Epoch 26: R-squared = 0.9587982296943665\n",
            "5000/5000 [==============================] - 9s 2ms/step - loss: 208.8569 - r_squared: 0.9209\n",
            "Epoch 27: R-squared = 0.9596425890922546\n",
            "5000/5000 [==============================] - 9s 2ms/step - loss: 208.8281 - r_squared: 0.9192\n",
            "Epoch 28: R-squared = 0.9517887830734253\n",
            "5000/5000 [==============================] - 8s 2ms/step - loss: 208.8530 - r_squared: 0.9204\n",
            "Epoch 29: R-squared = 0.9598190188407898\n",
            "5000/5000 [==============================] - 9s 2ms/step - loss: 208.7640 - r_squared: 0.9209\n",
            "Epoch 30: R-squared = 0.9445143342018127\n",
            "5000/5000 [==============================] - 9s 2ms/step - loss: 208.8721 - r_squared: 0.9194\n",
            "Epoch 31: R-squared = 0.9533942341804504\n",
            "5000/5000 [==============================] - 8s 2ms/step - loss: 208.7799 - r_squared: 0.9203\n",
            "Epoch 32: R-squared = 0.958933413028717\n",
            "5000/5000 [==============================] - 8s 2ms/step - loss: 208.8010 - r_squared: 0.9192\n",
            "Epoch 33: R-squared = 0.9570391774177551\n",
            "5000/5000 [==============================] - 8s 2ms/step - loss: 208.7958 - r_squared: 0.9191\n",
            "Epoch 34: R-squared = 0.9595159888267517\n",
            "5000/5000 [==============================] - 9s 2ms/step - loss: 208.8182 - r_squared: 0.9246\n",
            "Epoch 35: R-squared = 0.9598830342292786\n",
            "5000/5000 [==============================] - 9s 2ms/step - loss: 208.6924 - r_squared: 0.9215\n",
            "Epoch 36: R-squared = 0.9598440527915955\n",
            "5000/5000 [==============================] - 8s 2ms/step - loss: 208.7961 - r_squared: 0.9229\n",
            "Epoch 37: R-squared = 0.9583039283752441\n",
            "5000/5000 [==============================] - 8s 2ms/step - loss: 208.8386 - r_squared: 0.9191\n",
            "Epoch 38: R-squared = 0.9598784446716309\n",
            "5000/5000 [==============================] - 9s 2ms/step - loss: 208.7365 - r_squared: 0.9177\n",
            "Epoch 39: R-squared = 0.9567118883132935\n",
            "5000/5000 [==============================] - 9s 2ms/step - loss: 208.8413 - r_squared: 0.9183\n",
            "Epoch 40: R-squared = 0.9588661193847656\n",
            "5000/5000 [==============================] - 8s 2ms/step - loss: 208.7626 - r_squared: 0.9208\n",
            "Epoch 41: R-squared = 0.9598764777183533\n",
            "5000/5000 [==============================] - 8s 2ms/step - loss: 208.7386 - r_squared: 0.9186\n",
            "Epoch 42: R-squared = 0.9551396369934082\n",
            "5000/5000 [==============================] - 8s 2ms/step - loss: 208.8144 - r_squared: 0.9183\n",
            "Epoch 43: R-squared = 0.9592317342758179\n",
            "5000/5000 [==============================] - 9s 2ms/step - loss: 208.7843 - r_squared: 0.9180\n",
            "Epoch 44: R-squared = 0.9577864408493042\n",
            "5000/5000 [==============================] - 9s 2ms/step - loss: 208.7456 - r_squared: 0.9229\n",
            "Epoch 45: R-squared = 0.9581148624420166\n",
            "5000/5000 [==============================] - 8s 2ms/step - loss: 208.8132 - r_squared: 0.9210\n",
            "Epoch 46: R-squared = 0.9598692655563354\n",
            "5000/5000 [==============================] - 9s 2ms/step - loss: 208.7922 - r_squared: 0.9231\n",
            "Epoch 47: R-squared = 0.9598220586776733\n",
            "5000/5000 [==============================] - 14s 3ms/step - loss: 208.7419 - r_squared: 0.9192\n",
            "Epoch 48: R-squared = 0.9594811797142029\n",
            "5000/5000 [==============================] - 8s 2ms/step - loss: 208.7905 - r_squared: 0.9199\n",
            "Epoch 49: R-squared = 0.9550994038581848\n",
            "5000/5000 [==============================] - 8s 2ms/step - loss: 208.7524 - r_squared: 0.9217\n",
            "Epoch 50: R-squared = 0.95768141746521\n"
          ]
        }
      ]
    }
  ]
}